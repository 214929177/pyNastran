{
 "cells": [
  {
   "cell_type": "markdown",
   "metadata": {},
   "source": [
    "# OP2 Demo - Numpy\n",
    "\n",
    "The Jupyter notebook for this demo can be found in:\n",
    "   - docs\\quick_start\\demo\\op2_demo.ipynb\n",
    "   - https://github.com/SteveDoyle2/pyNastran/tree/master/docs/quick_start/demo/op2_demo.ipynb\n",
    "\n",
    "It's recommended that you first go through:\n",
    "   - https://github.com/SteveDoyle2/pyNastran/tree/master/docs/quick_start/demo/op2_intro.ipynb\n"
   ]
  },
  {
   "cell_type": "markdown",
   "metadata": {},
   "source": [
    "The previous demo was intentionally clunky to demonstrate how one might think of a single element. \n",
    "\n",
    "If you code like that, your code will be slow, so let's show you how to really use the numpy-style with the OP2.\n",
    "\n",
    "## Import the packages"
   ]
  },
  {
   "cell_type": "code",
   "execution_count": 1,
   "metadata": {
    "collapsed": true
   },
   "outputs": [],
   "source": [
    "import os\n",
    "import copy\n",
    "import numpy as np\n",
    "np.set_printoptions(precision=2, threshold=20, suppress=True)\n",
    "\n",
    "import pyNastran\n",
    "pkg_path = pyNastran.__path__[0]\n",
    "model_path = os.path.join(pkg_path, '..', 'models')\n",
    "\n",
    "from pyNastran.utils import print_bad_path\n",
    "from pyNastran.op2.op2 import read_op2\n",
    "from pyNastran.utils import object_methods, object_attributes\n",
    "np.set_printoptions(precision=3, threshold=20, edgeitems=10)"
   ]
  },
  {
   "cell_type": "markdown",
   "metadata": {},
   "source": [
    "### Load the model\n",
    "\n",
    "#### TODO: consider changing the model to something static with a CD frame and more element types (e.g., CTETRA/CQUAD4/CTRIA3)."
   ]
  },
  {
   "cell_type": "code",
   "execution_count": 5,
   "metadata": {
    "collapsed": false
   },
   "outputs": [
    {
     "name": "stdout",
     "output_type": "stream",
     "text": [
      "INFO:    op2_scalar.py:1306           op2_filename = 'c:\\\\nasa\\\\m4\\\\formats\\\\git\\\\pynastran\\\\pyNastran\\\\..\\\\models\\\\solid_bending\\\\solid_bending.op2'\n"
     ]
    }
   ],
   "source": [
    "from pyNastran.op2.op2 import read_op2\n",
    "\n",
    "op2_filename = os.path.join(model_path, 'solid_bending', 'solid_bending.op2')\n",
    "model = read_op2(op2_filename, debug=False)"
   ]
  },
  {
   "cell_type": "markdown",
   "metadata": {},
   "source": [
    "### Find the min/max displacement magnitude"
   ]
  },
  {
   "cell_type": "code",
   "execution_count": 6,
   "metadata": {
    "collapsed": false
   },
   "outputs": [
    {
     "name": "stdout",
     "output_type": "stream",
     "text": [
      "headers = [u't1', u't2', u't3', u'r1', u'r2', u'r3']\n",
      "max displacement=0.012376265 max_nodes=[23]\n",
      "min displacement=0.0 max_nodes=[31 35 39 43 47 48 53 63 64 69 70 71 72]\n"
     ]
    }
   ],
   "source": [
    "subcase_id = 1\n",
    "disp = model.displacements[subcase_id]\n",
    "print('headers = %s' % (disp.get_headers()))\n",
    "\n",
    "txyz = disp.data[0, :, :3]\n",
    "txyz_mag = np.linalg.norm(txyz, axis=1)\n",
    "txyz_mag_max = txyz_mag.max()\n",
    "txyz_mag_min = txyz_mag.min()\n",
    "\n",
    "inid_max = np.where(txyz_mag == txyz_mag_max)[0]\n",
    "inid_min = np.where(txyz_mag == txyz_mag_min)[0]\n",
    "all_nodes = disp.node_gridtype[:, 0]\n",
    "max_nodes = all_nodes[inid_max]\n",
    "min_nodes = all_nodes[inid_min]\n",
    "print('max displacement=%s max_nodes=%s' % (txyz_mag_max, max_nodes))\n",
    "print('min displacement=%s max_nodes=%s' % (txyz_mag_min, min_nodes))"
   ]
  },
  {
   "cell_type": "markdown",
   "metadata": {},
   "source": [
    "### Find the max centroidal stress on the CTETRA elements"
   ]
  },
  {
   "cell_type": "code",
   "execution_count": 7,
   "metadata": {
    "collapsed": false
   },
   "outputs": [
    {
     "name": "stdout",
     "output_type": "stream",
     "text": [
      "headers = [u'oxx', u'oyy', u'ozz', u'txy', u'tyz', u'txz', u'omax', u'omid', u'omin', u'von_mises']\n",
      "[[  1   0]\n",
      " [  1   8]\n",
      " [  1  13]\n",
      " [  1  67]\n",
      " [  1  33]\n",
      " [  2   0]\n",
      " [  2   8]\n",
      " [  2   7]\n",
      " [  2  62]\n",
      " [  2  59]\n",
      " ...\n",
      " [185   0]\n",
      " [185  54]\n",
      " [185  39]\n",
      " [185  64]\n",
      " [185  71]\n",
      " [186   0]\n",
      " [186   8]\n",
      " [186  62]\n",
      " [186   4]\n",
      " [186  58]]\n"
     ]
    }
   ],
   "source": [
    "subcase_id = 1\n",
    "stress = model.ctetra_stress[subcase_id]\n",
    "print('headers = %s' % (stress.get_headers()))\n",
    "\n",
    "element_node = stress.element_node\n",
    "elements = element_node[:, 0]\n",
    "nodes = element_node[:, 1]\n",
    "print(element_node)"
   ]
  },
  {
   "cell_type": "markdown",
   "metadata": {},
   "source": [
    "#### The 0 location is the centroid\n",
    "\n",
    "You can either query the 0 location or calculate it with a numpy arange.  CTETRA elements have 4 nodes (even 10 noded CTETRA elements) in the OP2."
   ]
  },
  {
   "cell_type": "code",
   "execution_count": 8,
   "metadata": {
    "collapsed": false
   },
   "outputs": [
    {
     "name": "stdout",
     "output_type": "stream",
     "text": [
      "eids_centroid = [  1   2   3   4   5   6   7   8   9  10 ... 177 178 179 180 181 182 183\n",
      " 184 185 186]\n",
      "[15900.173 16272.253 12798.722 10728.189 26309.43  30346.639 45438.992\n",
      " 51427.406 40912.426 41191.414 ...  7342.325 10163.439 28830.463 46618.023\n",
      "  6998.956  7861.917  8589.076  6053.971 44450.695 22886.705]\n",
      "max_stress=52446.37 eids=[142]\n",
      "min_stress=3288.5732 eids=[165]\n"
     ]
    }
   ],
   "source": [
    "izero = np.where(nodes == 0)[0]\n",
    "izero2 = np.arange(0, len(nodes), step=5, dtype='int32')\n",
    "#print(izero)\n",
    "#print(izero2)\n",
    "eids_centroid = elements[izero2]\n",
    "print('eids_centroid = %s' % eids_centroid)\n",
    "\n",
    "vm_stress = stress.data[0, izero2, -1]\n",
    "print(vm_stress)\n",
    "\n",
    "vm_stress_max = vm_stress.max()\n",
    "vm_stress_min = vm_stress.min()\n",
    "icentroid_max = np.where(vm_stress == vm_stress_max)[0]\n",
    "icentroid_min = np.where(vm_stress == vm_stress_min)[0]\n",
    "eids_max = eids_centroid[icentroid_max]\n",
    "eids_min = eids_centroid[icentroid_min]\n",
    "\n",
    "print('max_stress=%s eids=%s' % (vm_stress_max, eids_max))\n",
    "print('min_stress=%s eids=%s' % (vm_stress_min, eids_min))"
   ]
  }
 ],
 "metadata": {
  "kernelspec": {
   "display_name": "Python 2",
   "language": "python",
   "name": "python2"
  },
  "language_info": {
   "codemirror_mode": {
    "name": "ipython",
    "version": 2
   },
   "file_extension": ".py",
   "mimetype": "text/x-python",
   "name": "python",
   "nbconvert_exporter": "python",
   "pygments_lexer": "ipython2",
   "version": "2.7.13"
  }
 },
 "nbformat": 4,
 "nbformat_minor": 2
}
